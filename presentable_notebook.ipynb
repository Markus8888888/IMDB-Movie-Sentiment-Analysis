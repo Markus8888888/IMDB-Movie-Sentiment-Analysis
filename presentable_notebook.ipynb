{
 "cells": [
  {
   "cell_type": "markdown",
   "id": "ced68643",
   "metadata": {},
   "source": [
    "**Sentiment Analysis**"
   ]
  },
  {
   "cell_type": "code",
   "execution_count": 52,
   "id": "6f2b2deb",
   "metadata": {},
   "outputs": [],
   "source": [
    "import numpy as np\n",
    "import pandas as pd\n",
    "import matplotlib.pyplot as plt\n",
    "import seaborn as sns\n",
    "import re\n",
    "import nltk\n",
    "from nltk.corpus import stopwords\n",
    "from sklearn.feature_extraction.text import TfidfVectorizer\n",
    "from sklearn.linear_model import LogisticRegression\n",
    "from sklearn.model_selection import train_test_split\n",
    "from sklearn.metrics import classification_report, confusion_matrix"
   ]
  },
  {
   "cell_type": "code",
   "execution_count": 53,
   "id": "a6f88282",
   "metadata": {},
   "outputs": [
    {
     "name": "stdout",
     "output_type": "stream",
     "text": [
      "Dataset Preview:                                               review sentiment\n",
      "0  One of the other reviewers has mentioned that ...  positive\n",
      "1  A wonderful little production. <br /><br />The...  positive\n",
      "2  I thought this was a wonderful way to spend ti...  positive\n",
      "3  Basically there's a family where a little boy ...  negative\n",
      "4  Petter Mattei's \"Love in the Time of Money\" is...  positive\n",
      "\n",
      "<class 'pandas.core.frame.DataFrame'>\n",
      "RangeIndex: 50000 entries, 0 to 49999\n",
      "Data columns (total 2 columns):\n",
      " #   Column     Non-Null Count  Dtype \n",
      "---  ------     --------------  ----- \n",
      " 0   review     50000 non-null  object\n",
      " 1   sentiment  50000 non-null  object\n",
      "dtypes: object(2)\n",
      "memory usage: 781.4+ KB\n",
      "None\n"
     ]
    }
   ],
   "source": [
    "df = pd.read_csv(\"imdb_dataset.csv\")\n",
    "print(f\"Dataset Preview: {df.head()}\")\n",
    "print()\n",
    "print(df.info())"
   ]
  },
  {
   "cell_type": "markdown",
   "id": "bcbeb5c5",
   "metadata": {},
   "source": [
    "**Preprocess Text**"
   ]
  },
  {
   "cell_type": "code",
   "execution_count": 54,
   "id": "2a342eb9",
   "metadata": {},
   "outputs": [
    {
     "name": "stderr",
     "output_type": "stream",
     "text": [
      "[nltk_data] Downloading package stopwords to\n",
      "[nltk_data]     C:\\Users\\marku\\AppData\\Roaming\\nltk_data...\n",
      "[nltk_data]   Package stopwords is already up-to-date!\n"
     ]
    }
   ],
   "source": [
    "nltk.download('stopwords')\n",
    "stop_words = set(stopwords.words('english'))\n",
    "\n",
    "def clean_text(text):\n",
    "    text = text.lower()\n",
    "    text = re.sub(r\"<.*?>\", \"\", text)  # remove HTML\n",
    "    text = re.sub(r\"[^a-z\\s]\", \"\", text)  # keep only letters\n",
    "    words = [w for w in text.split() if w not in stop_words]\n",
    "    return \" \".join(words)\n",
    "\n",
    "df[\"clean_review\"] = df[\"review\"].apply(clean_text)"
   ]
  },
  {
   "cell_type": "code",
   "execution_count": 55,
   "id": "50f38407",
   "metadata": {},
   "outputs": [
    {
     "data": {
      "text/html": [
       "<div>\n",
       "<style scoped>\n",
       "    .dataframe tbody tr th:only-of-type {\n",
       "        vertical-align: middle;\n",
       "    }\n",
       "\n",
       "    .dataframe tbody tr th {\n",
       "        vertical-align: top;\n",
       "    }\n",
       "\n",
       "    .dataframe thead th {\n",
       "        text-align: right;\n",
       "    }\n",
       "</style>\n",
       "<table border=\"1\" class=\"dataframe\">\n",
       "  <thead>\n",
       "    <tr style=\"text-align: right;\">\n",
       "      <th></th>\n",
       "      <th>review</th>\n",
       "      <th>sentiment</th>\n",
       "      <th>clean_review</th>\n",
       "    </tr>\n",
       "  </thead>\n",
       "  <tbody>\n",
       "    <tr>\n",
       "      <th>0</th>\n",
       "      <td>One of the other reviewers has mentioned that ...</td>\n",
       "      <td>positive</td>\n",
       "      <td>one reviewers mentioned watching oz episode yo...</td>\n",
       "    </tr>\n",
       "    <tr>\n",
       "      <th>1</th>\n",
       "      <td>A wonderful little production. &lt;br /&gt;&lt;br /&gt;The...</td>\n",
       "      <td>positive</td>\n",
       "      <td>wonderful little production filming technique ...</td>\n",
       "    </tr>\n",
       "    <tr>\n",
       "      <th>2</th>\n",
       "      <td>I thought this was a wonderful way to spend ti...</td>\n",
       "      <td>positive</td>\n",
       "      <td>thought wonderful way spend time hot summer we...</td>\n",
       "    </tr>\n",
       "    <tr>\n",
       "      <th>3</th>\n",
       "      <td>Basically there's a family where a little boy ...</td>\n",
       "      <td>negative</td>\n",
       "      <td>basically theres family little boy jake thinks...</td>\n",
       "    </tr>\n",
       "    <tr>\n",
       "      <th>4</th>\n",
       "      <td>Petter Mattei's \"Love in the Time of Money\" is...</td>\n",
       "      <td>positive</td>\n",
       "      <td>petter matteis love time money visually stunni...</td>\n",
       "    </tr>\n",
       "  </tbody>\n",
       "</table>\n",
       "</div>"
      ],
      "text/plain": [
       "                                              review sentiment  \\\n",
       "0  One of the other reviewers has mentioned that ...  positive   \n",
       "1  A wonderful little production. <br /><br />The...  positive   \n",
       "2  I thought this was a wonderful way to spend ti...  positive   \n",
       "3  Basically there's a family where a little boy ...  negative   \n",
       "4  Petter Mattei's \"Love in the Time of Money\" is...  positive   \n",
       "\n",
       "                                        clean_review  \n",
       "0  one reviewers mentioned watching oz episode yo...  \n",
       "1  wonderful little production filming technique ...  \n",
       "2  thought wonderful way spend time hot summer we...  \n",
       "3  basically theres family little boy jake thinks...  \n",
       "4  petter matteis love time money visually stunni...  "
      ]
     },
     "execution_count": 55,
     "metadata": {},
     "output_type": "execute_result"
    }
   ],
   "source": [
    "df.head()"
   ]
  },
  {
   "cell_type": "markdown",
   "id": "23952221",
   "metadata": {},
   "source": [
    "**Convert Text into Vectors**"
   ]
  },
  {
   "cell_type": "code",
   "execution_count": 56,
   "id": "8ab2ae19",
   "metadata": {},
   "outputs": [],
   "source": [
    "vectorizer = TfidfVectorizer(max_features=5000)\n",
    "X = vectorizer.fit_transform(df[\"clean_review\"])\n",
    "y = df[\"sentiment\"].map({\"positive\":1, \"negative\":0})"
   ]
  },
  {
   "cell_type": "markdown",
   "id": "3e542582",
   "metadata": {},
   "source": [
    "**Logistic Regression**"
   ]
  },
  {
   "cell_type": "code",
   "execution_count": 57,
   "id": "1ba68f49",
   "metadata": {},
   "outputs": [
    {
     "name": "stdout",
     "output_type": "stream",
     "text": [
      "              precision    recall  f1-score   support\n",
      "\n",
      "           0       0.90      0.87      0.88      4961\n",
      "           1       0.88      0.90      0.89      5039\n",
      "\n",
      "    accuracy                           0.89     10000\n",
      "   macro avg       0.89      0.89      0.89     10000\n",
      "weighted avg       0.89      0.89      0.89     10000\n",
      "\n"
     ]
    }
   ],
   "source": [
    "X_train, X_test, y_train, y_test = train_test_split(X, y, test_size=0.2, random_state=42)\n",
    "\n",
    "model = LogisticRegression(max_iter=1000)\n",
    "model.fit(X_train, y_train)\n",
    "\n",
    "y_pred = model.predict(X_test)\n",
    "print(classification_report(y_test, y_pred))"
   ]
  },
  {
   "cell_type": "markdown",
   "id": "9e7c5ab4",
   "metadata": {},
   "source": [
    "**Hyperparameter tuning**"
   ]
  },
  {
   "cell_type": "code",
   "execution_count": 58,
   "id": "11fd7084",
   "metadata": {},
   "outputs": [],
   "source": [
    "# from sklearn.feature_extraction.text import TfidfVectorizer\n",
    "# from sklearn.linear_model import LogisticRegression\n",
    "# from sklearn.model_selection import GridSearchCV, train_test_split\n",
    "# from sklearn.pipeline import Pipeline\n",
    "\n",
    "# # Split dataset\n",
    "# X_train, X_test, y_train, y_test = train_test_split(\n",
    "#     df[\"clean_review\"], df[\"sentiment\"].map({\"positive\":1, \"negative\":0}), \n",
    "#     test_size=0.2, random_state=42\n",
    "# )\n",
    "\n",
    "# # Pipeline: TF-IDF + Logistic Regression\n",
    "# pipeline = Pipeline([\n",
    "#     (\"tfidf\", TfidfVectorizer()),\n",
    "#     (\"logreg\", LogisticRegression(max_iter=1000))\n",
    "# ])\n",
    "\n",
    "# # Grid search for best parameters\n",
    "# param_grid = {\n",
    "#     \"tfidf__max_features\": [5000, 10000, 20000],\n",
    "#     \"tfidf__ngram_range\": [(1,1), (1,2)],   # try unigrams vs unigrams+bigrams\n",
    "#     \"logreg__C\": [0.1, 1, 10]               # regularization strength\n",
    "# }\n",
    "\n",
    "# grid = GridSearchCV(pipeline, param_grid, cv=3, scoring=\"accuracy\", verbose=2)\n",
    "# grid.fit(X_train, y_train)\n",
    "\n",
    "# print(\"Best parameters:\", grid.best_params_)\n",
    "# print(\"Best CV accuracy:\", grid.best_score_)\n",
    "# print(\"Test accuracy:\", grid.score(X_test, y_test))"
   ]
  },
  {
   "cell_type": "markdown",
   "id": "3d36b979",
   "metadata": {},
   "source": [
    "**Using Best Parameters**"
   ]
  },
  {
   "cell_type": "code",
   "execution_count": 59,
   "id": "26f4945b",
   "metadata": {},
   "outputs": [
    {
     "name": "stderr",
     "output_type": "stream",
     "text": [
      "[nltk_data] Downloading package stopwords to\n",
      "[nltk_data]     C:\\Users\\marku\\AppData\\Roaming\\nltk_data...\n",
      "[nltk_data]   Package stopwords is already up-to-date!\n"
     ]
    },
    {
     "name": "stdout",
     "output_type": "stream",
     "text": [
      "Classification Report:\n",
      "\n",
      "              precision    recall  f1-score   support\n",
      "\n",
      "           0       0.91      0.88      0.90      4961\n",
      "           1       0.89      0.91      0.90      5039\n",
      "\n",
      "    accuracy                           0.90     10000\n",
      "   macro avg       0.90      0.90      0.90     10000\n",
      "weighted avg       0.90      0.90      0.90     10000\n",
      "\n"
     ]
    },
    {
     "data": {
      "image/png": "[encoded data removed]",
      "text/plain": [
       "<Figure size 600x500 with 2 Axes>"
      ]
     },
     "metadata": {},
     "output_type": "display_data"
    }
   ],
   "source": [
    "# Load dataset\n",
    "df = pd.read_csv(\"imdb_dataset.csv\")\n",
    "\n",
    "# Example preprocessing function (can adjust as needed)\n",
    "import re\n",
    "from nltk.corpus import stopwords\n",
    "import nltk\n",
    "nltk.download('stopwords')\n",
    "stop_words = set(stopwords.words('english'))\n",
    "\n",
    "def clean_text(text):\n",
    "    text = text.lower()\n",
    "    text = re.sub(r\"<.*?>\", \"\", text)\n",
    "    text = re.sub(r\"[^a-z\\s]\", \"\", text)\n",
    "    words = [w for w in text.split() if w not in stop_words]\n",
    "    return \" \".join(words)\n",
    "\n",
    "df[\"clean_review\"] = df[\"review\"].apply(clean_text)\n",
    "\n",
    "# Split dataset\n",
    "X_train, X_test, y_train, y_test = train_test_split(\n",
    "    df[\"clean_review\"], df[\"sentiment\"].map({\"positive\":1, \"negative\":0}),\n",
    "    test_size=0.2, random_state=42\n",
    ")\n",
    "\n",
    "# Vectorize with TF-IDF using best parameters\n",
    "vectorizer = TfidfVectorizer(max_features=20000, ngram_range=(1,2))\n",
    "X_train_tfidf = vectorizer.fit_transform(X_train)\n",
    "X_test_tfidf = vectorizer.transform(X_test)\n",
    "\n",
    "# Train Logistic Regression with best C\n",
    "model = LogisticRegression(C=1, max_iter=1000)\n",
    "model.fit(X_train_tfidf, y_train)\n",
    "\n",
    "# Evaluate\n",
    "y_pred = model.predict(X_test_tfidf)\n",
    "print(\"Classification Report:\\n\")\n",
    "print(classification_report(y_test, y_pred))\n",
    "\n",
    "# Optional: Confusion Matrix\n",
    "cm = confusion_matrix(y_test, y_pred)\n",
    "plt.figure(figsize=(6,5))\n",
    "sns.heatmap(cm, annot=True, fmt=\"d\", cmap=\"Blues\")\n",
    "plt.xlabel(\"Predicted\")\n",
    "plt.ylabel(\"Actual\")\n",
    "plt.title(\"Confusion Matrix\")\n",
    "plt.show()"
   ]
  },
  {
   "cell_type": "markdown",
   "id": "77264f75",
   "metadata": {},
   "source": [
    "**Top positive & negative words**"
   ]
  },
  {
   "cell_type": "code",
   "execution_count": 60,
   "id": "913f9bfd",
   "metadata": {},
   "outputs": [
    {
     "name": "stdout",
     "output_type": "stream",
     "text": [
      "Top Positive Words:\n",
      "great : 7.545608199913617\n",
      "excellent : 6.690736736480851\n",
      "perfect : 5.232331420118053\n",
      "wonderful : 5.13093989809176\n",
      "amazing : 4.783598312315402\n",
      "best : 4.72254210899176\n",
      "brilliant : 4.521365141811045\n",
      "favorite : 4.3860765338084455\n",
      "loved : 4.247238532804293\n",
      "one best : 4.167629919550403\n",
      "hilarious : 4.16025209906318\n",
      "enjoyed : 3.884003298517181\n",
      "superb : 3.8682683150992547\n",
      "fantastic : 3.848573647430154\n",
      "love : 3.8470963352125187\n",
      "enjoyable : 3.7821439963733834\n",
      "entertaining : 3.6837820854847236\n",
      "fun : 3.6728834174694702\n",
      "today : 3.635320917542517\n",
      "definitely : 3.6044106527997215\n",
      "\n",
      "Top Negative Words:\n",
      "worst : -9.516883307033973\n",
      "bad : -7.729504446907218\n",
      "awful : -7.389751317386168\n",
      "boring : -6.849642957196932\n",
      "waste : -6.759399223359789\n",
      "poor : -5.95017553672973\n",
      "terrible : -5.934335053339535\n",
      "nothing : -5.775505888492105\n",
      "dull : -5.085644079288778\n",
      "worse : -5.0080478649243325\n",
      "poorly : -4.916717062682999\n",
      "horrible : -4.726594044436351\n",
      "disappointing : -4.538890888186718\n",
      "supposed : -4.526001899333723\n",
      "fails : -4.497258604262097\n",
      "annoying : -4.308011067161986\n",
      "lame : -4.2849345544543525\n",
      "disappointment : -4.245668373860111\n",
      "minutes : -4.235233851669199\n",
      "unfortunately : -4.129448445260687\n"
     ]
    }
   ],
   "source": [
    "# Get feature names\n",
    "feature_names = vectorizer.get_feature_names_out()\n",
    "coef = model.coef_[0]\n",
    "\n",
    "# Top 20 positive & negative features\n",
    "top_pos = np.argsort(coef)[-20:]\n",
    "top_neg = np.argsort(coef)[:20]\n",
    "\n",
    "print(\"Top Positive Words:\")\n",
    "for i in reversed(top_pos):\n",
    "    print(feature_names[i], \":\", coef[i])\n",
    "\n",
    "print(\"\\nTop Negative Words:\")\n",
    "for i in top_neg:\n",
    "    print(feature_names[i], \":\", coef[i])"
   ]
  }
 ],
 "metadata": {
  "kernelspec": {
   "display_name": "Python 3",
   "language": "python",
   "name": "python3"
  },
  "language_info": {
   "codemirror_mode": {
    "name": "ipython",
    "version": 3
   },
   "file_extension": ".py",
   "mimetype": "text/x-python",
   "name": "python",
   "nbconvert_exporter": "python",
   "pygments_lexer": "ipython3",
   "version": "3.13.7"
  }
 },
 "nbformat": 4,
 "nbformat_minor": 5
}
